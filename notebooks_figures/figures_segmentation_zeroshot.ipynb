{
 "cells": [
  {
   "cell_type": "code",
   "execution_count": 5,
   "metadata": {},
   "outputs": [],
   "source": [
    "import torch\n",
    "from torch.utils.data import Dataset, DataLoader"
   ]
  },
  {
   "cell_type": "code",
   "execution_count": 6,
   "metadata": {},
   "outputs": [],
   "source": [
    "class COCOSegmentationDataset(Dataset):\n",
    "    def __init__(self, images_dir, annotations_path, transform=None):\n",
    "        \"\"\"\n",
    "        Args:\n",
    "            images_dir (str): Path to the images directory.\n",
    "            annotations_path (str): Path to the COCO annotations file.\n",
    "            transform (callable, optional): Optional transform to be applied\n",
    "                on an image.\n",
    "        \"\"\"\n",
    "        self.images_dir = images_dir\n",
    "        self.coco = COCO(annotations_path)\n",
    "        self.image_ids = self.coco.getImgIds()\n",
    "        self.transform = transform\n",
    "\n",
    "    def __len__(self):\n",
    "        return len(self.image_ids)\n",
    "\n",
    "    def __getitem__(self, idx):\n",
    "        # Load image\n",
    "        image_id = self.image_ids[idx]\n",
    "        image_info = self.coco.loadImgs(image_id)[0]\n",
    "        image_path = os.path.join(self.images_dir, image_info['file_name'])\n",
    "        image = cv2.imread(image_path)\n",
    "        image_rgb = cv2.cvtColor(image, cv2.COLOR_BGR2RGB)\n",
    "        image_rgb = cv2.resize(image_rgb, (448, 448))\n",
    "\n",
    "        # Load mask\n",
    "        annotation_ids = self.coco.getAnnIds(imgIds=image_id)\n",
    "        annotations = self.coco.loadAnns(annotation_ids)\n",
    "        \n",
    "        # Initialize an empty mask\n",
    "        mask = np.zeros((image_info['height'], image_info['width']), dtype=np.uint8)\n",
    "        \n",
    "        # Populate the mask with annotations\n",
    "        for annotation in annotations:\n",
    "            category_id = annotation['category_id']\n",
    "            binary_mask = self.coco.annToMask(annotation)\n",
    "            mask[binary_mask == 1] = category_id\n",
    "        mask = cv2.resize(mask, (112, 112), interpolation=cv2.INTER_NEAREST)\n",
    "\n",
    "        # Apply transforms if any\n",
    "        if self.transform:\n",
    "            image_tensor = self.transform(image_rgb)\n",
    "        else:\n",
    "            image_tensor = torch.tensor(image_rgb)\n",
    "\n",
    "        # Convert to PyTorch tensors\n",
    "        image_tensor = image_tensor #.permute(2, 0, 1)  # CxHxW format\n",
    "        mask = torch.tensor(mask, dtype=torch.long)  # Mask in HxW format\n",
    "\n",
    "        return image_rgb, image_tensor, mask"
   ]
  },
  {
   "cell_type": "code",
   "execution_count": 7,
   "metadata": {},
   "outputs": [
    {
     "name": "stdout",
     "output_type": "stream",
     "text": [
      "loading annotations into memory...\n",
      "Done (t=0.48s)\n",
      "creating index...\n",
      "index created!\n"
     ]
    }
   ],
   "source": [
    "import torchvision.transforms as T  # Optional for transformations\n",
    "from torchvision import transforms\n",
    "from pycocotools.coco import COCO\n",
    "\n",
    "# Define the transforms\n",
    "transform = transforms.Compose([\n",
    "    transforms.ToTensor(),\n",
    "    transforms.Normalize(mean=[0.485, 0.456, 0.406], std=[0.229, 0.224, 0.225]),\n",
    "])\n",
    "\n",
    "# dataset_train = COCOSegmentationDataset(images_dir = \"../data/coco2017/train2017\",\n",
    "#                                   annotations_path = \"../data/coco2017/annotations/instances_train2017.json\",\n",
    "#                                   transform=transform)\n",
    "\n",
    "dataset_val = COCOSegmentationDataset(images_dir = \"../data/coco2017/val2017\",\n",
    "                                  annotations_path = \"../data/coco2017/annotations/instances_val2017.json\",\n",
    "                                  transform=transform)\n",
    "\n",
    "# data_loader_train = DataLoader(\n",
    "#   dataset_train,\n",
    "#   batch_size=256,\n",
    "#   num_workers=10,\n",
    "#   pin_memory=True,\n",
    "#   drop_last=False,\n",
    "#   shuffle=False\n",
    "# )\n",
    "data_loader_val = DataLoader(\n",
    "  dataset_val,\n",
    "  batch_size=256,\n",
    "  num_workers=10,\n",
    "  pin_memory=True,\n",
    "  drop_last=False,\n",
    "  shuffle=False\n",
    ")"
   ]
  },
  {
   "cell_type": "code",
   "execution_count": 8,
   "metadata": {},
   "outputs": [],
   "source": [
    "# from tqdm import tqdm\n",
    "# import os\n",
    "# import cv2\n",
    "# import numpy as np\n",
    "\n",
    "# image_rgb_list = []\n",
    "# mask_list = []\n",
    "# for (image_rgb, _, mask) in tqdm(data_loader_val):\n",
    "#     image_rgb_list.append(image_rgb)\n",
    "#     mask_list.append(mask)\n",
    "# image_rgb = torch.concat(image_rgb_list)\n",
    "# masks = torch.concat(mask_list)"
   ]
  },
  {
   "cell_type": "code",
   "execution_count": 9,
   "metadata": {},
   "outputs": [],
   "source": [
    "# masks = torch.load(f'./data/coco_dumps/masks_112.pth')\n",
    "# masks.shape"
   ]
  },
  {
   "cell_type": "code",
   "execution_count": 10,
   "metadata": {},
   "outputs": [],
   "source": [
    "# image_rgb = torch.load(f'./data/coco_dumps/image_rgb_448.pth')\n",
    "# image_rgb.shape"
   ]
  },
  {
   "cell_type": "code",
   "execution_count": 11,
   "metadata": {},
   "outputs": [],
   "source": [
    "# image_rgb = image_rgb.float() / 255."
   ]
  },
  {
   "cell_type": "code",
   "execution_count": 12,
   "metadata": {},
   "outputs": [],
   "source": [
    "paths_dict  = {\n",
    "  #'random':'../dino/encoders/random/checkpoint/coco_dumps/coco_dump_28',\n",
    "  #'stylegan':'../dino/encoders/stylegan-oriented-512/checkpoint/coco_dumps/coco_dump_28',\n",
    "  #'shaders':'../dino/encoders/shaders/checkpoint/coco_dumps/coco_dump_28',\n",
    "  #'shaders_mixup':'../dino/encoders/shaders_mixup/checkpoint/coco_dumps/coco_dump_28',\n",
    "  #'shaders_kml':'../dino/encoders/shaders_kml/checkpoint/coco_dumps/coco_dump_28',\n",
    "  #'shaders_kml_mixup':'../dino/encoders/shaders_kml_mixup/checkpoint/coco_dumps/coco_dump_28',\n",
    "  #'places':'../dino/encoders/places/checkpoint/coco_dumps/coco_dump_28',\n",
    "  'imagenet':'../dino/encoders_prev/imagenet/checkpoint/coco_dumps/coco_dump_28',\n",
    "}"
   ]
  },
  {
   "cell_type": "code",
   "execution_count": 13,
   "metadata": {},
   "outputs": [
    {
     "name": "stderr",
     "output_type": "stream",
     "text": [
      "/tmp/ipykernel_3328455/3009730905.py:3: FutureWarning: You are using `torch.load` with `weights_only=False` (the current default value), which uses the default pickle module implicitly. It is possible to construct malicious pickle data which will execute arbitrary code during unpickling (See https://github.com/pytorch/pytorch/blob/main/SECURITY.md#untrusted-models for more details). In a future release, the default value for `weights_only` will be flipped to `True`. This limits the functions that could be executed during unpickling. Arbitrary objects will no longer be allowed to be loaded via this mode unless they are explicitly allowlisted by the user via `torch.serialization.add_safe_globals`. We recommend you start setting `weights_only=True` for any use case where you don't have full control of the loaded file. Please open an issue on GitHub for any issues related to this experimental feature.\n",
      "  raw_features_dict[name] = torch.concat([torch.load(f'{path}/valfeat_{i}.pth', map_location='cpu') for i in range(20)])\n"
     ]
    }
   ],
   "source": [
    "raw_features_dict = {}\n",
    "for name, path in paths_dict.items():\n",
    "  raw_features_dict[name] = torch.concat([torch.load(f'{path}/valfeat_{i}.pth', map_location='cpu') for i in range(20)])"
   ]
  },
  {
   "cell_type": "code",
   "execution_count": 14,
   "metadata": {},
   "outputs": [],
   "source": [
    "from torchvision import transforms\n",
    "\n",
    "features_dict = {}\n",
    "for name, raw_feat in raw_features_dict.items():\n",
    "  features_dict[name] = raw_feat[:, 1:, :].view(5000, 28, 28, 384)\n",
    "  features_dict[name] = transforms.Resize((112, 112))(features_dict[name].permute(0, 3, 1, 2)).permute(0, 2, 3, 1)\n",
    "  # features_dict[name] = transforms.Resize((112, 112))(image_rgb.permute(0, 3, 1, 2)).permute(0, 2, 3, 1)"
   ]
  },
  {
   "cell_type": "code",
   "execution_count": 15,
   "metadata": {},
   "outputs": [
    {
     "data": {
      "text/plain": [
       "torch.Size([5000, 112, 112, 384])"
      ]
     },
     "execution_count": 15,
     "metadata": {},
     "output_type": "execute_result"
    }
   ],
   "source": [
    "features_dict[list(features_dict.keys())[0]].shape"
   ]
  },
  {
   "cell_type": "code",
   "execution_count": 19,
   "metadata": {},
   "outputs": [
    {
     "name": "stderr",
     "output_type": "stream",
     "text": [
      "100%|██████████| 5000/5000 [07:50<00:00, 10.63it/s]\n"
     ]
    }
   ],
   "source": [
    "from sklearn.decomposition import PCA\n",
    "from tqdm import tqdm\n",
    "import math\n",
    "\n",
    "def render_patch_pca(tokens, grid_size):\n",
    "    tokens = tokens.flatten(0, 1)\n",
    "    pca = PCA(n_components=3, random_state=0)\n",
    "    pca.fit(tokens)\n",
    "    projected_tokens = pca.transform(tokens)\n",
    "\n",
    "    t = torch.tensor(projected_tokens)\n",
    "    t_min = t.min(dim=0, keepdim=True).values\n",
    "    t_max = t.max(dim=0, keepdim=True).values\n",
    "    normalized_t = (t - t_min) / (t_max - t_min)\n",
    "\n",
    "    array = normalized_t #(normalized_t * 255).byte().numpy()\n",
    "    array = array.reshape(*grid_size, 3)\n",
    "\n",
    "    return array\n",
    "\n",
    "import numpy as np\n",
    "\n",
    "def calculate_cluster_centroids(x, m):\n",
    "    L, C = x.shape\n",
    "    unique_clusters = np.unique(m)\n",
    "    K = len(unique_clusters)\n",
    "    \n",
    "    centroids = torch.zeros((K+1, C))\n",
    "    \n",
    "    for k in unique_clusters:\n",
    "        cluster_points = x[m == k]  # Extract points belonging to cluster k\n",
    "        centroids[k] = cluster_points.mean(0)  # Compute mean for the cluster\n",
    "    \n",
    "    return centroids\n",
    "\n",
    "def calculate_normalized_inertia(x, m, centroids):\n",
    "    L, C = x.shape\n",
    "    total_pixels = L\n",
    "    \n",
    "    inertia = 0.0\n",
    "    for k in range(1, len(centroids)):\n",
    "        cluster_points = x[m == k]  # Extract points belonging to cluster k\n",
    "        inertia += torch.sum((cluster_points - centroids[k])**2)\n",
    "    \n",
    "    normalized_inertia = inertia / torch.sum((x - x.mean())**2)\n",
    "    return normalized_inertia\n",
    "\n",
    "inertia_dict = {}\n",
    "for name, feat in features_dict.items():\n",
    "  inertia_dict[name] = []\n",
    "  for i in tqdm(range(5000)):\n",
    "    pca_i = render_patch_pca(feat[i], (112, 112))\n",
    "    # pca_i = feat[i] # RGB\n",
    "    mask_i = dataset_val[i][2]\n",
    "    \n",
    "    u_i, mask_i = np.unique(mask_i, return_inverse=True)\n",
    "    mask_i = np.arange(len(u_i))[mask_i].reshape(*dataset_val[i][2].shape)\n",
    "\n",
    "    pca_i, mask_i = pca_i[mask_i > 0], mask_i[mask_i > 0]\n",
    "\n",
    "    centroids_i = calculate_cluster_centroids(pca_i, mask_i)\n",
    "    inertia_i = calculate_normalized_inertia(pca_i, mask_i, centroids_i)\n",
    "\n",
    "    if not math.isnan(inertia_i):\n",
    "        inertia_dict[name].append(inertia_i)"
   ]
  },
  {
   "cell_type": "code",
   "execution_count": 20,
   "metadata": {},
   "outputs": [],
   "source": [
    "avg_inertia_dict = {name:np.array(x).mean() for name, x in inertia_dict.items()}"
   ]
  },
  {
   "cell_type": "code",
   "execution_count": 21,
   "metadata": {},
   "outputs": [
    {
     "data": {
      "text/plain": [
       "{'imagenet': np.float64(0.3542138768916374)}"
      ]
     },
     "execution_count": 21,
     "metadata": {},
     "output_type": "execute_result"
    }
   ],
   "source": [
    "avg_inertia_dict # Inertia = 1 - R^2\n",
    "\n",
    "# With background elimination\n",
    "## {'RGB': 0.806041031875779}\n",
    "## {'random': 0.633371627640186}\n",
    "## {'stylegan': 0.5151794695156151}\n",
    "## {'shaders': 0.45028412317973515}\n",
    "## {'shaders_mixup': 0.486129928535604}\n",
    "## {'fast2leaves_shaders_shaders': 0.441332687365011}\n",
    "## {'fast2leaves_shaders_shaders_mixup-2-2-1': 0.4626139436879311}\n",
    "## {'places': 0.37896990407915015}\n",
    "## {'imagenet': 0.362603292054376}"
   ]
  }
 ],
 "metadata": {
  "kernelspec": {
   "display_name": "fullvm",
   "language": "python",
   "name": "python3"
  },
  "language_info": {
   "codemirror_mode": {
    "name": "ipython",
    "version": 3
   },
   "file_extension": ".py",
   "mimetype": "text/x-python",
   "name": "python",
   "nbconvert_exporter": "python",
   "pygments_lexer": "ipython3",
   "version": "3.9.20"
  }
 },
 "nbformat": 4,
 "nbformat_minor": 2
}
